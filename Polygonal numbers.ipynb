{
 "metadata": {
  "name": "Polygonal numbers"
 },
 "nbformat": 3,
 "nbformat_minor": 0,
 "worksheets": [
  {
   "cells": [
    {
     "cell_type": "heading",
     "level": 1,
     "metadata": {},
     "source": "POLYGONAL NUMBERS"
    },
    {
     "cell_type": "code",
     "collapsed": false,
     "input": "#http://en.wikipedia.org/wiki/Polygonal_number\ndef polygonal_number(k, n):\n    return (( pow(n, 2) * (k - 2)) - (n * (k - 4))) / 2\npn = polygonal_number\n#http://en.wikipedia.org/wiki/Centered_polygonal_number\ndef centered_polygonal_number(k, n):\n    return ((k*n)/2)*(n-1)+1\ncpn = centered_polygonal_number",
     "language": "python",
     "metadata": {},
     "outputs": [],
     "prompt_number": 1
    },
    {
     "cell_type": "code",
     "collapsed": false,
     "input": "[[pn(k, n) for n in xrange(1, 11)] for k in xrange(2, 12)]",
     "language": "python",
     "metadata": {},
     "outputs": [
      {
       "metadata": {},
       "output_type": "pyout",
       "prompt_number": 2,
       "text": "[[1, 2, 3, 4, 5, 6, 7, 8, 9, 10],\n [1, 3, 6, 10, 15, 21, 28, 36, 45, 55],\n [1, 4, 9, 16, 25, 36, 49, 64, 81, 100],\n [1, 5, 12, 22, 35, 51, 70, 92, 117, 145],\n [1, 6, 15, 28, 45, 66, 91, 120, 153, 190],\n [1, 7, 18, 34, 55, 81, 112, 148, 189, 235],\n [1, 8, 21, 40, 65, 96, 133, 176, 225, 280],\n [1, 9, 24, 46, 75, 111, 154, 204, 261, 325],\n [1, 10, 27, 52, 85, 126, 175, 232, 297, 370],\n [1, 11, 30, 58, 95, 141, 196, 260, 333, 415]]"
      }
     ],
     "prompt_number": 2
    },
    {
     "cell_type": "code",
     "collapsed": false,
     "input": "[[cpn(k, n) for n in xrange(1, 11)] for k in xrange(1, 11)]",
     "language": "python",
     "metadata": {},
     "outputs": [
      {
       "metadata": {},
       "output_type": "pyout",
       "prompt_number": 3,
       "text": "[[1, 2, 3, 7, 9, 16, 19, 29, 33, 46],\n [1, 3, 7, 13, 21, 31, 43, 57, 73, 91],\n [1, 4, 9, 19, 29, 46, 61, 85, 105, 136],\n [1, 5, 13, 25, 41, 61, 85, 113, 145, 181],\n [1, 6, 15, 31, 49, 76, 103, 141, 177, 226],\n [1, 7, 19, 37, 61, 91, 127, 169, 217, 271],\n [1, 8, 21, 43, 69, 106, 145, 197, 249, 316],\n [1, 9, 25, 49, 81, 121, 169, 225, 289, 361],\n [1, 10, 27, 55, 89, 136, 187, 253, 321, 406],\n [1, 11, 31, 61, 101, 151, 211, 281, 361, 451]]"
      }
     ],
     "prompt_number": 3
    },
    {
     "cell_type": "code",
     "collapsed": false,
     "input": "",
     "language": "python",
     "metadata": {},
     "outputs": [],
     "prompt_number": 3
    }
   ],
   "metadata": {}
  }
 ]
}