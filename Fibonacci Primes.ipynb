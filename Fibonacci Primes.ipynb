{
 "metadata": {
  "name": ""
 },
 "nbformat": 3,
 "nbformat_minor": 0,
 "worksheets": [
  {
   "cells": [
    {
     "cell_type": "code",
     "collapsed": false,
     "input": [
      "from tagtor import helper as h, table\n",
      "from IPython.core.display import HTML\n",
      "\n",
      "def fib(n):\n",
      "    result = []\n",
      "    a, b = 0, 1\n",
      "    while b < n:\n",
      "        result.append(b)\n",
      "        a, b = b, a+b\n",
      "    return result\n",
      "\n",
      "def digital_root(num, modulo = 9):\n",
      "    \"\"\" similar to modulo, but 0 and 9 are taken as 9 \"\"\"\n",
      "    val = num % modulo\n",
      "    return int(val) if val > 0 else modulo\n",
      "\n",
      "__PRIME_FACTORS__ = {}\n",
      "\n",
      "from sympy import isprime\n",
      "\n",
      "def primefactors(x):\n",
      "    factors = []\n",
      "    i = 2\n",
      "    while x > 1:\n",
      "        if isprime(i):\n",
      "            factors.append(i)\n",
      "            x = x / i\n",
      "            i += 1\n",
      "        elif x % i == 0:\n",
      "            x = x / i\n",
      "            factors.append(i)\n",
      "        else:\n",
      "            i += 1\n",
      "    return factors\n",
      "\n",
      "def condense(L):\n",
      "    prime, count, D = 0, 0, {}\n",
      "    for x in L:\n",
      "        if x == prime:\n",
      "            count = count + 1\n",
      "        else:\n",
      "            if prime != 0:\n",
      "                D[prime] = count if not D.has_key(prime) else D[prime]+count\n",
      "            prime, count = x, 1\n",
      "    D[prime] = count if not D.has_key(prime) else D[prime]+count\n",
      "    return D\n",
      "\n",
      "def format_factors(n):\n",
      "    s = \"$\"\n",
      "    for key, value in condense(primefactors(n)).iteritems():\n",
      "        s += \"%s^%s \" % (key, value)\n",
      "    return s+\"$\""
     ],
     "language": "python",
     "metadata": {},
     "outputs": [],
     "prompt_number": 1
    },
    {
     "cell_type": "code",
     "collapsed": false,
     "input": [
      "fibs = [1, 1, 2, 3, 5, 8, 13, 21, 34, 55, 89, 144, \n",
      "        233, 377, 610, 987, \n",
      "        1597, 2584, 4181, 6765, \n",
      "        10946, 17711, 28657, 46368, \n",
      "        75025, 121393, 196418, 317811, \n",
      "        514229, 832040, 1346269, 2178309, \n",
      "        3524578, 5702887, 9227465, 14930352, \n",
      "        24157817, 39088169, 63245986, 102334155, \n",
      "        165580141, 267914296, 433494437, 701408733, \n",
      "        1134903170, 1836311903, 2971215073L, 4807526976L, \n",
      "        7778742049L, 12586269025L, 20365011074L, 32951280099L, \n",
      "        53316291173L, 86267571272L, 139583862445L, 225851433717L, \n",
      "        365435296162L, 591286729879L, 956722026041L, 1548008755920L, \n",
      "        2504730781961L, 4052739537881L, 6557470319842L, 10610209857723L, \n",
      "        17167680177565L, 27777890035288L, 44945570212853L, 72723460248141L, \n",
      "        117669030460994L, 190392490709135L, 308061521170129L, 498454011879264L, \n",
      "        806515533049393L, 1304969544928657L, 2111485077978050L, 3416454622906707L, \n",
      "        5527939700884757L, 8944394323791464L, 14472334024676221L, 23416728348467685L, \n",
      "        37889062373143906L, 61305790721611591L, 99194853094755497L, 160500643816367088L, \n",
      "        259695496911122585L, 420196140727489673L, 679891637638612258L, 1100087778366101931L, \n",
      "        1779979416004714189L, 2880067194370816120L, 4660046610375530309L, 7540113804746346429L, \n",
      "        12200160415121876738L, 19740274219868223167L, 31940434634990099905L, 51680708854858323072L, \n",
      "        83621143489848422977L, 135301852344706746049L]"
     ],
     "language": "python",
     "metadata": {},
     "outputs": [],
     "prompt_number": 2
    },
    {
     "cell_type": "code",
     "collapsed": false,
     "input": [
      "primefactors(17)"
     ],
     "language": "python",
     "metadata": {},
     "outputs": [
      {
       "metadata": {},
       "output_type": "pyout",
       "prompt_number": 3,
       "text": [
        "[2, 3, 5]"
       ]
      }
     ],
     "prompt_number": 3
    },
    {
     "cell_type": "code",
     "collapsed": false,
     "input": [
      "tbl = table(**{'class': 'data'})\n",
      "\n",
      "header = ['Index', 'FSequence', 'MOD9', 'Primes']\n",
      "\n",
      "# add header row with column titles\n",
      "tbl.addHeadRow(h.tr(*map(h.th, header)))\n",
      "\n",
      "r = 0\n",
      "# add body rows\n",
      "for i in fibs[:43]:\n",
      "    r += 1\n",
      "    tbl.addBodyRow(h.tr(*map(h.td, [h.sub(r), i, digital_root(i), format_factors(i)])))\n",
      "\n",
      "HTML(str(tbl))"
     ],
     "language": "python",
     "metadata": {},
     "outputs": [
      {
       "html": [
        "<table class=\"data\"><thead><tr><th>Index</th><th>FSequence</th><th>MOD9</th><th>Primes</th></tr></thead><tbody><tr><td><sub>1</sub></td><td>1</td><td>1</td><td>$0^0 $</td></tr><tr><td><sub>2</sub></td><td>1</td><td>1</td><td>$0^0 $</td></tr><tr><td><sub>3</sub></td><td>2</td><td>2</td><td>$2^1 $</td></tr><tr><td><sub>4</sub></td><td>3</td><td>3</td><td>$2^1 $</td></tr><tr><td><sub>5</sub></td><td>5</td><td>5</td><td>$2^1 3^1 $</td></tr><tr><td><sub>6</sub></td><td>8</td><td>8</td><td>$2^1 3^1 $</td></tr><tr><td><sub>7</sub></td><td>13</td><td>4</td><td>$2^1 3^1 5^1 $</td></tr><tr><td><sub>8</sub></td><td>21</td><td>3</td><td>$2^1 3^1 5^1 $</td></tr><tr><td><sub>9</sub></td><td>34</td><td>7</td><td>$2^1 3^1 5^1 $</td></tr><tr><td><sub>10</sub></td><td>55</td><td>1</td><td>$2^1 3^1 5^1 $</td></tr><tr><td><sub>11</sub></td><td>89</td><td>8</td><td>$2^1 3^1 5^1 7^1 $</td></tr><tr><td><sub>12</sub></td><td>144</td><td>9</td><td>$2^1 3^1 4^1 5^1 $</td></tr><tr><td><sub>13</sub></td><td>233</td><td>8</td><td>$2^1 3^1 5^1 7^1 $</td></tr><tr><td><sub>14</sub></td><td>377</td><td>8</td><td>$2^1 3^1 5^1 6^1 7^1 $</td></tr><tr><td><sub>15</sub></td><td>610</td><td>7</td><td>$11^1 2^1 3^1 5^1 7^1 $</td></tr><tr><td><sub>16</sub></td><td>987</td><td>6</td><td>$2^1 3^1 4^1 5^1 7^1 $</td></tr><tr><td><sub>17</sub></td><td>1597</td><td>4</td><td>$11^1 2^1 3^1 5^1 7^1 $</td></tr><tr><td><sub>18</sub></td><td>2584</td><td>1</td><td>$11^1 2^1 3^1 5^1 7^1 $</td></tr><tr><td><sub>19</sub></td><td>4181</td><td>5</td><td>$2^1 3^1 4^1 5^1 7^1 11^1 $</td></tr><tr><td><sub>20</sub></td><td>6765</td><td>6</td><td>$2^1 3^1 5^1 7^1 8^1 11^1 $</td></tr><tr><td><sub>21</sub></td><td>10946</td><td>2</td><td>$2^1 3^1 4^2 5^1 7^1 11^1 $</td></tr><tr><td><sub>22</sub></td><td>17711</td><td>8</td><td>$2^1 3^1 5^1 7^1 11^1 13^1 $</td></tr><tr><td><sub>23</sub></td><td>28657</td><td>1</td><td>$2^1 3^1 4^1 5^1 7^1 11^1 13^1 $</td></tr><tr><td><sub>24</sub></td><td>46368</td><td>9</td><td>$2^1 3^1 4^2 5^1 6^1 7^1 11^1 $</td></tr><tr><td><sub>25</sub></td><td>75025</td><td>1</td><td>$2^1 3^1 4^1 5^1 7^1 11^1 13^1 $</td></tr><tr><td><sub>26</sub></td><td>121393</td><td>1</td><td>$2^1 3^1 4^1 5^1 7^1 8^1 9^1 11^1 $</td></tr><tr><td><sub>27</sub></td><td>196418</td><td>2</td><td>$2^1 3^1 4^2 5^1 7^1 11^1 13^1 $</td></tr><tr><td><sub>28</sub></td><td>317811</td><td>3</td><td>$2^1 3^1 4^1 5^1 7^1 9^1 11^1 13^1 $</td></tr><tr><td><sub>29</sub></td><td>514229</td><td>5</td><td>$2^1 3^1 4^1 5^1 7^1 9^1 11^1 13^1 $</td></tr><tr><td><sub>30</sub></td><td>832040</td><td>8</td><td>$2^1 3^1 5^1 7^1 11^1 12^1 13^1 17^1 $</td></tr><tr><td><sub>31</sub></td><td>1346269</td><td>4</td><td>$2^1 3^1 5^1 7^1 10^1 11^1 13^1 17^1 $</td></tr><tr><td><sub>32</sub></td><td>2178309</td><td>3</td><td>$2^1 3^1 5^1 7^1 11^1 13^1 17^1 19^1 $</td></tr><tr><td><sub>33</sub></td><td>3524578</td><td>7</td><td>$2^1 3^1 5^1 7^1 11^1 13^1 17^1 19^1 $</td></tr><tr><td><sub>34</sub></td><td>5702887</td><td>1</td><td>$2^1 3^1 5^1 7^1 11^1 13^1 17^1 19^1 $</td></tr><tr><td><sub>35</sub></td><td>9227465</td><td>8</td><td>$2^1 3^1 5^1 7^1 10^1 11^1 13^1 15^1 17^1 $</td></tr><tr><td><sub>36</sub></td><td>14930352</td><td>9</td><td>$2^1 3^1 4^1 5^1 7^1 11^1 13^1 17^1 19^1 $</td></tr><tr><td><sub>37</sub></td><td>24157817</td><td>8</td><td>$2^1 3^1 5^1 6^1 7^1 11^1 13^1 17^1 19^1 $</td></tr><tr><td><sub>38</sub></td><td>39088169</td><td>8</td><td>$2^1 3^1 5^1 7^1 11^1 13^1 17^1 19^1 23^1 $</td></tr><tr><td><sub>39</sub></td><td>63245986</td><td>7</td><td>$2^1 3^1 5^1 7^1 11^1 13^1 17^1 19^1 23^1 $</td></tr><tr><td><sub>40</sub></td><td>102334155</td><td>6</td><td>$2^1 3^1 4^1 5^1 7^1 11^1 13^1 17^1 19^1 23^1 $</td></tr><tr><td><sub>41</sub></td><td>165580141</td><td>4</td><td>$2^1 3^1 5^1 7^1 11^1 13^1 17^1 18^2 $</td></tr><tr><td><sub>42</sub></td><td>267914296</td><td>1</td><td>$2^1 3^1 5^1 7^1 11^1 12^1 13^1 17^1 19^1 23^1 $</td></tr><tr><td><sub>43</sub></td><td>433494437</td><td>5</td><td>$2^1 3^1 4^2 5^1 7^1 8^1 11^1 13^1 14^1 17^1 $</td></tr></tbody></table>"
       ],
       "metadata": {},
       "output_type": "pyout",
       "prompt_number": 4,
       "text": [
        "<IPython.core.display.HTML at 0xa84f2e8>"
       ]
      }
     ],
     "prompt_number": 4
    },
    {
     "cell_type": "code",
     "collapsed": false,
     "input": [
      "__PRIME_FACTORS__"
     ],
     "language": "python",
     "metadata": {},
     "outputs": [
      {
       "metadata": {},
       "output_type": "pyout",
       "prompt_number": 5,
       "text": [
        "{}"
       ]
      }
     ],
     "prompt_number": 5
    },
    {
     "cell_type": "code",
     "collapsed": false,
     "input": [
      "with open('styles.css') as f:\n",
      "    css = f.read()\n",
      "HTML('<style>%s</style>' % css)"
     ],
     "language": "python",
     "metadata": {},
     "outputs": [
      {
       "html": [
        "<style>/**\n",
        " * Copyright: Marko Manninen, 04/2014 (https://www.github.com/markomanninen)\n",
        " */\n",
        ".rendered_html table,\n",
        ".rendered_html tr,\n",
        ".rendered_html th,\n",
        ".rendered_html td {\n",
        "    border: 0\n",
        "}\n",
        "\n",
        "table.data {\n",
        "    color: black;\n",
        "    border: 0;\n",
        "\tmargin: 1.5em auto;\n",
        "\tborder-bottom: 1px solid #999;\n",
        "\tborder-collapse: collapse;\n",
        "\t-webkit-border-top-left-radius: 8px;\n",
        "\t-webkit-border-top-right-radius: 8px;\n",
        "\t-moz-border-radius: 8px 8px 0 0;\n",
        "\tborder-radius: 8px 8px 0 0;\n",
        "\tbackground: #444;\n",
        "}\n",
        "table.data caption {\n",
        "    margin-bottom: .75em;\n",
        "    text-align: center;\n",
        "\tfont-style: italic;\n",
        "}\n",
        "table.data td {\n",
        "\t-moz-transition: background 0.2s linear;\n",
        "\t-o-transition: background 0.2s linear;\n",
        "\ttransition: background 0.2s linear;\n",
        "\twhite-space: nowrap;\n",
        "\tborder-top: 1px solid #eee;\n",
        "\tborder-left: 1px solid #eee;\n",
        "\tpadding: 0.4em 0.8em;\n",
        "\tbackground: #fff;\n",
        "}\n",
        "table.data tfoot,\n",
        "table.data tbody {\n",
        "    outline-offset: -1px;\n",
        "    outline: 1px solid #ccc;\n",
        "}\n",
        "\n",
        "table.data thead {}\n",
        "table.data thead th {\n",
        "\tborder: none;\n",
        "    border-bottom: 2px solid #eee;\n",
        "\tbackground: transparent;\n",
        "\tcolor: #fff;\n",
        "\ttext-align: center;\n",
        "\tcursor: pointer;\n",
        "    padding: 0.4em 0.8em;\n",
        "}\n",
        "\n",
        "table.data tbody {}\n",
        "table.data tbody tr:hover td {\n",
        "\tbackground: #ffe;\n",
        "    color: black;\n",
        "}\n",
        "table.data tbody tr td:hover {\n",
        "\tbackground: #f5f6d2;\n",
        "}\n",
        "table.data tbody tr td:last-child {\n",
        "\ttext-align: center\n",
        "}\n",
        "\n",
        "table.data tbody tr th {\n",
        "\tcolor: white;\n",
        "    padding: 0.4em 0.8em;\n",
        "    text-transform: uppercase\n",
        "}\n",
        "\n",
        "\n",
        "table.data tfoot {}\n",
        "table.data tfoot td {\n",
        "    padding: 0.4em 0.8em;\n",
        "\ttext-align: center;\n",
        "\tfont-style: italic;\n",
        "}\n",
        "\n",
        "table.data .right {\n",
        "    text-align: right\n",
        "}\n",
        "\n",
        "table.data tr.ok td {background-color: white;}\n",
        "table.data tr.failed td {background-color: red; color: white}\n",
        "table.data tr.error td {background-color: lightpink}\n",
        "table.data tbody.failures {}\n",
        "table.data tbody.errors {}</style>"
       ],
       "metadata": {},
       "output_type": "pyout",
       "prompt_number": 6,
       "text": [
        "<IPython.core.display.HTML at 0xa89af28>"
       ]
      }
     ],
     "prompt_number": 6
    }
   ],
   "metadata": {}
  }
 ]
}